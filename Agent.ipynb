{
 "cells": [
  {
   "cell_type": "code",
   "metadata": {
    "collapsed": true,
    "ExecuteTime": {
     "end_time": "2025-10-16T10:14:36.580549Z",
     "start_time": "2025-10-16T10:14:36.291941Z"
    }
   },
   "source": [
    "@file:DependsOn(\"ai.koog:koog-agents-jvm:0.5.0\")\n",
    "%use serialization"
   ],
   "outputs": [],
   "execution_count": 2
  },
  {
   "metadata": {
    "ExecuteTime": {
     "end_time": "2025-10-16T10:15:04.532511Z",
     "start_time": "2025-10-16T10:15:04.443072Z"
    }
   },
   "cell_type": "code",
   "source": [
    "import ai.koog.prompt.executor.llms.all.simpleAnthropicExecutor\n",
    "\n",
    "val executor = simpleAnthropicExecutor(System.getenv(\"ANTHROPIC_API_KEY\"))"
   ],
   "outputs": [],
   "execution_count": 3
  },
  {
   "metadata": {
    "ExecuteTime": {
     "end_time": "2025-10-16T10:43:34.430728Z",
     "start_time": "2025-10-16T10:42:39.113734Z"
    }
   },
   "cell_type": "code",
   "source": [
    "import ai.koog.agents.core.agent.*\n",
    "import ai.koog.agents.core.agent.config.AIAgentConfig\n",
    "import ai.koog.agents.core.feature.message.FeatureMessageProcessor\n",
    "import ai.koog.agents.core.feature.writer.FeatureMessageLogWriter\n",
    "import ai.koog.agents.core.tools.ToolRegistry\n",
    "import ai.koog.prompt.dsl.prompt\n",
    "import ai.koog.prompt.executor.clients.anthropic.AnthropicModels\n",
    "import kotlinx.coroutines.runBlocking\n",
    "import ai.koog.agents.core.tools.annotations.Tool\n",
    "import ai.koog.agents.core.tools.reflect.ToolSet\n",
    "import ai.koog.agents.core.tools.reflect.asTools\n",
    "import ai.koog.agents.features.eventHandler.feature.EventHandler\n",
    "import ai.koog.agents.features.tracing.feature.Tracing\n",
    "import ai.koog.agents.features.tracing.writer.TraceFeatureMessageLogWriter\n",
    "import ai.koog.prompt.message.Message\n",
    "import ai.koog.prompt.params.LLMParams\n",
    "import io.github.oshai.kotlinlogging.KotlinLogging\n",
    "import java.io.File\n",
    "\n",
    "object FileSystemTools : ToolSet {\n",
    "    @Tool\n",
    "    fun listFiles(): List<String> = File(\".\").listFiles().map { it.name }\n",
    "\n",
    "    @Tool\n",
    "    fun getContent(fileName: String): String = File(fileName).readText()\n",
    "}\n",
    "\n",
    "val agent = AIAgent(\n",
    "    promptExecutor = executor,\n",
    "    agentConfig = AIAgentConfig(\n",
    "        prompt(\"\") {\n",
    "            system {\n",
    "                +\"DO NOT CHAT WITH ME! ONLY CALL TOOLS UNTIL PROVIDING THE FINAL RESULT!\"\n",
    "            }\n",
    "        },\n",
    "        model = AnthropicModels.Sonnet_4_5,\n",
    "        maxAgentIterations = 100\n",
    "    ),\n",
    "    toolRegistry = ToolRegistry {\n",
    "        tools(FileSystemTools.asTools())\n",
    "    }\n",
    ") {\n",
    "    install(EventHandler) {\n",
    "        onToolCallStarting { println(\"Calling ${it.tool.name}\") }\n",
    "        onToolCallCompleted { println(\"Result ${it.result.toString().take(10)}\") }\n",
    "        onLLMCallCompleted { println(it.responses.forEach {\n",
    "            if (it is Message.Assistant) println(it.content)\n",
    "        })\n",
    "    }\n",
    "}\n",
    "\n",
    "runBlocking {\n",
    "    agent.run(\"Search the files, and file all relevant files for this course. Ignore git related files, node related files.\")\n",
    "}"
   ],
   "outputs": [
    {
     "name": "stdout",
     "output_type": "stream",
     "text": [
      "Calling listFiles\n",
      "Result [slides.md\n",
      "Calling getContent\n",
      "Result ---\n",
      "highli\n",
      "Calling getContent\n",
      "Result ### Kotlin\n",
      "Calling getContent\n",
      "Result ---\n",
      "# Kotl\n",
      "Calling getContent\n",
      "Result {\n",
      " \"cells\"\n",
      "Calling getContent\n",
      "Result {\n",
      " \"cells\"\n",
      "Calling getContent\n",
      "Result {\n",
      " \"cells\"\n",
      "Calling getContent\n",
      "Result {\n",
      " \"cells\"\n",
      "Calling getContent\n",
      "Result import {de\n",
      "Calling getContent\n",
      "Result {\n",
      "  \"name\"\n"
     ]
    },
    {
     "data": {
      "text/plain": [
       "Based on my search through the files, here are **all the relevant course files** (excluding git, node, and config files):\n",
       "\n",
       "## **Core Course Materials:**\n",
       "\n",
       "1. **slides.md** - Main presentation slides covering:\n",
       "   - Kotlin, Ktor & Koog\n",
       "   - Language Learning Models (LLMs)\n",
       "   - Tokenization and context windows\n",
       "   - Koog library usage\n",
       "   - DSL design principles\n",
       "   - Lambda functions and receivers\n",
       "   - Prompt engineering exercises\n",
       "\n",
       "2. **slides3.md** - Alternative presentation \"Lambda World: Crafting Elegant DSLs in Kotlin\" covering:\n",
       "   - DSL design principles\n",
       "   - Kotlin features (lambdas, extension functions)\n",
       "   - Lambda with receivers\n",
       "   - Prompt DSL building exercises\n",
       "\n",
       "3. **README.md** - Project overview explaining:\n",
       "   - Slidev deck setup\n",
       "   - Installation and usage instructions\n",
       "   - File structure overview\n",
       "\n",
       "## **Jupyter Notebooks (Interactive Examples):**\n",
       "\n",
       "4. **PromptChain.ipynb** - Advanced example demonstrating:\n",
       "   - Koog AI Agents library (v0.5.0)\n",
       "   - Multiple LLM clients (Anthropic & Ollama)\n",
       "   - Parallel file processing with coroutines\n",
       "   - Prompt chaining\n",
       "   - Auto-documentation generation\n",
       "\n",
       "5. **Chat.ipynb** - Chat interaction examples showing:\n",
       "   - Ollama client setup\n",
       "   - Conversation history management\n",
       "   - XML-structured prompts\n",
       "   - Custom prompt builder extensions\n",
       "\n",
       "6. **Example.ipynb** - Basic DSL exercises:\n",
       "   - StringBuilder DSL implementation\n",
       "   - PromptBuilder interface creation\n",
       "   - Markdown DSL concepts\n",
       "\n",
       "7. **Agent.ipynb** - AI Agent implementation showing:\n",
       "   - AIAgent configuration\n",
       "   - Tool/function calling with FileSystemTools\n",
       "   - Agent features and tracing\n",
       "   - Real-world agent usage\n",
       "\n",
       "## **Configuration:**\n",
       "\n",
       "8. **slidev.config.ts** - Slidev presentation configuration with Shiki highlighting\n",
       "\n",
       "9. **package.json** - Project dependencies and scripts\n",
       "\n",
       "These files constitute a complete course on building DSLs in Kotlin with a focus on LLM integration using the Koog library, progressing from basic concepts to advanced agent implementations."
      ]
     },
     "execution_count": 13,
     "metadata": {},
     "output_type": "execute_result"
    }
   ],
   "execution_count": 13
  }
 ],
 "metadata": {
  "kernelspec": {
   "display_name": "Kotlin",
   "language": "kotlin",
   "name": "kotlin"
  },
  "language_info": {
   "name": "kotlin",
   "version": "2.2.20-Beta2",
   "mimetype": "text/x-kotlin",
   "file_extension": ".kt",
   "pygments_lexer": "kotlin",
   "codemirror_mode": "text/x-kotlin",
   "nbconvert_exporter": ""
  },
  "ktnbPluginMetadata": {
   "projectLibraries": true
  }
 },
 "nbformat": 4,
 "nbformat_minor": 0
}
